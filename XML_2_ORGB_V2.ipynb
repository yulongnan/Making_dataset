{
 "cells": [
  {
   "cell_type": "markdown",
   "source": [
    "## XML文件 = 内部属性值的修改 "
   ],
   "metadata": {}
  },
  {
   "cell_type": "code",
   "execution_count": 2,
   "source": [
    "#coding=utf-8\r\n",
    "import xml.etree.ElementTree as ET\r\n",
    "import glob\r\n",
    "import os"
   ],
   "outputs": [],
   "metadata": {}
  },
  {
   "cell_type": "code",
   "execution_count": 35,
   "source": [
    "# 读取路径下的文件  \r\n",
    "rootpath = './VOC2007/Annotations/'  \r\n",
    "print(rootpath)   \r\n",
    "list_xml_filename = os.listdir(os.path.join(rootpath))   \r\n",
    "print(list_xml_filename)  \r\n",
    "\r\n",
    "# 文件重命名\r\n",
    "for file in list_xml_filename:   #遍历所有文件\r\n",
    "    Olddir=os.path.join(rootpath,file)   #原来的文件路径\r\n",
    "    if os.path.isdir(Olddir):   #如果是文件夹则跳过\r\n",
    "        continue\r\n",
    "    filename=os.path.splitext(file)[0]   #文件名\r\n",
    "    filetype=os.path.splitext(file)[1]   #文件扩展名\r\n",
    "    if filename[0] == 'k':\r\n",
    "        Newdir=os.path.join(rootpath,filename[1:]+filetype)  #用字符串函数zfill 以0补全所需位数\r\n",
    "        os.rename(Olddir,Newdir)#重命名\r\n",
    "        print('change:', Newdir)\r\n",
    "    else:\r\n",
    "        print('keep no change:', Olddir)\r\n"
   ],
   "outputs": [
    {
     "output_type": "stream",
     "name": "stdout",
     "text": [
      "./VOC2007/Annotations/\n",
      "['color_HLG_000001.xml', 'color_HLG_000002.xml', 'color_HLG_000003.xml', 'color_HLG_000004.xml', 'color_HLG_000005.xml', 'color_HLG_000006.xml', 'color_HLG_000007.xml', 'color_HLG_000008.xml', 'color_HLG_000009.xml', 'color_HLG_000010.xml', 'color_HLG_000011.xml', 'color_HLG_000012.xml', 'color_HLG_000013.xml', 'color_HLG_000014.xml', 'color_HLG_000015.xml']\n",
      "keep no change: ./VOC2007/Annotations/color_HLG_000001.xml\n",
      "keep no change: ./VOC2007/Annotations/color_HLG_000002.xml\n",
      "keep no change: ./VOC2007/Annotations/color_HLG_000003.xml\n",
      "keep no change: ./VOC2007/Annotations/color_HLG_000004.xml\n",
      "keep no change: ./VOC2007/Annotations/color_HLG_000005.xml\n",
      "keep no change: ./VOC2007/Annotations/color_HLG_000006.xml\n",
      "keep no change: ./VOC2007/Annotations/color_HLG_000007.xml\n",
      "keep no change: ./VOC2007/Annotations/color_HLG_000008.xml\n",
      "keep no change: ./VOC2007/Annotations/color_HLG_000009.xml\n",
      "keep no change: ./VOC2007/Annotations/color_HLG_000010.xml\n",
      "keep no change: ./VOC2007/Annotations/color_HLG_000011.xml\n",
      "keep no change: ./VOC2007/Annotations/color_HLG_000012.xml\n",
      "keep no change: ./VOC2007/Annotations/color_HLG_000013.xml\n",
      "keep no change: ./VOC2007/Annotations/color_HLG_000014.xml\n",
      "keep no change: ./VOC2007/Annotations/color_HLG_000015.xml\n"
     ]
    }
   ],
   "metadata": {}
  },
  {
   "cell_type": "code",
   "execution_count": 38,
   "source": [
    "#读取待修改文件内部 \"filename\" = 与文件名相同\r\n",
    "\r\n",
    "for file in list_xml_filename:   #遍历所有文件\r\n",
    "    xml_path = os.path.join(rootpath,file)\r\n",
    "\r\n",
    "    updateTree = ET.parse(xml_path) # parse xml documents into element tree\r\n",
    "    root = updateTree.getroot()     # return root element\r\n",
    "    # 修改sub1的name属性\r\n",
    "    sub1 = root.find(\"filename\")    # 获得当前属性值\r\n",
    "    print ('OldValue:', sub1.text)\r\n",
    "    \r\n",
    "    if sub1.text != file: \r\n",
    "        sub1.text = file                # 对属性赋值  \r\n",
    "        updateTree.write(xml_path)      # 跟新树目录 \r\n",
    "        print ('NewValue:', sub1.text)\r\n",
    "    else:\r\n",
    "        print ('keep no change:', sub1.text)\r\n",
    "\r\n"
   ],
   "outputs": [
    {
     "output_type": "stream",
     "name": "stdout",
     "text": [
      "OldValue: color_HLG_000001.xml\n",
      "keep no change: color_HLG_000001.xml\n",
      "OldValue: color_HLG_000002.xml\n",
      "keep no change: color_HLG_000002.xml\n",
      "OldValue: color_HLG_000003.xml\n",
      "keep no change: color_HLG_000003.xml\n",
      "OldValue: color_HLG_000004.xml\n",
      "keep no change: color_HLG_000004.xml\n",
      "OldValue: color_HLG_000005.xml\n",
      "keep no change: color_HLG_000005.xml\n",
      "OldValue: color_HLG_000006.xml\n",
      "keep no change: color_HLG_000006.xml\n",
      "OldValue: color_HLG_000007.xml\n",
      "keep no change: color_HLG_000007.xml\n",
      "OldValue: color_HLG_000008.xml\n",
      "keep no change: color_HLG_000008.xml\n",
      "OldValue: color_HLG_000009.xml\n",
      "keep no change: color_HLG_000009.xml\n",
      "OldValue: color_HLG_000010.xml\n",
      "keep no change: color_HLG_000010.xml\n",
      "OldValue: color_HLG_000011.xml\n",
      "keep no change: color_HLG_000011.xml\n",
      "OldValue: color_HLG_000012.xml\n",
      "keep no change: color_HLG_000012.xml\n",
      "OldValue: color_HLG_000013.xml\n",
      "keep no change: color_HLG_000013.xml\n",
      "OldValue: color_HLG_000014.xml\n",
      "keep no change: color_HLG_000014.xml\n",
      "OldValue: color_HLG_000015.xml\n",
      "keep no change: color_HLG_000015.xml\n"
     ]
    }
   ],
   "metadata": {}
  }
 ],
 "metadata": {
  "orig_nbformat": 4,
  "language_info": {
   "name": "python",
   "version": "3.7.10",
   "mimetype": "text/x-python",
   "codemirror_mode": {
    "name": "ipython",
    "version": 3
   },
   "pygments_lexer": "ipython3",
   "nbconvert_exporter": "python",
   "file_extension": ".py"
  },
  "kernelspec": {
   "name": "python3",
   "display_name": "Python 3.7.10 64-bit ('Anaconda3': conda)"
  },
  "interpreter": {
   "hash": "19d5effd8ee1311358e509780eb3ba0aa603f088884d2fee5afc3922f78377a9"
  }
 },
 "nbformat": 4,
 "nbformat_minor": 2
}