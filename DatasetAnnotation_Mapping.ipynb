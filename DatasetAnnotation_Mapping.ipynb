{
 "cells": [
  {
   "cell_type": "markdown",
   "metadata": {},
   "source": [
    "# 数据集 == 标签映射"
   ]
  },
  {
   "cell_type": "code",
   "execution_count": 1,
   "metadata": {},
   "outputs": [],
   "source": [
    "# 文件导入\n",
    "import numpy as np \n",
    "import cv2 \n",
    "import os \n",
    "import matplotlib.pyplot as plt \n",
    "import time \n",
    "import os.path as osp \n",
    "import shutil\n",
    "import xml.etree.ElementTree as ET"
   ]
  },
  {
   "cell_type": "code",
   "execution_count": 2,
   "metadata": {},
   "outputs": [],
   "source": [
    "## Annotations_Rb_Sort ===> Annotations_Ori_Sort\n",
    "### ===重命名= 复制到另一文件夹=== xml ###\n",
    "\n",
    "rootpath_IMG = './Annotations_Rb_Sort/'      \n",
    "list_img_filename = os.listdir(os.path.join(rootpath_IMG))     \n",
    "\n",
    "# 想保存到的根路径 IMG \n",
    "save_dir_IMG = './Annotations_Ori_Sort/' \n",
    "# 如果目录不存在，则创建  \n",
    "if not os.path.isdir(save_dir_IMG): \n",
    "    os.makedirs(save_dir_IMG) \n",
    "\n",
    "for img_filename in list_img_filename: \n",
    "    imgname=os.path.splitext(img_filename)[0][2:]     # 文件名     \n",
    "    imgtype='.xml'   # 文件扩展名\n",
    "    frontname = 'Ori'  \n",
    "    img_filename_new = frontname + imgname  + imgtype  # 图片全名     \n",
    "    # 重命名  \n",
    "    from_path = os.path.join(rootpath_IMG, img_filename)       \n",
    "    to_path = os.path.join(save_dir_IMG, img_filename_new)     \n",
    "    shutil.copy2(from_path, to_path)     "
   ]
  },
  {
   "cell_type": "code",
   "execution_count": 3,
   "metadata": {},
   "outputs": [
    {
     "name": "stdout",
     "output_type": "stream",
     "text": [
      "OldValue: RbRGB_pitaya_000001.jpg\n",
      "NewValue: OriRGB_pitaya_000001.xml\n",
      "OldValue: F:\\HLG_Multi_Detection\\HLG_Multi_Datasets\\VOC2007\\JPEGImages_Rb_Sort\\RbRGB_pitaya_000001.jpg\n",
      "NewValue: D:/VOC2007/JPEGImages/OriRGB_pitaya_000001.jpg\n",
      "OldValue: RbRGB_pitaya_000002.jpg\n",
      "NewValue: OriRGB_pitaya_000002.xml\n",
      "OldValue: F:\\HLG_Multi_Detection\\HLG_Multi_Datasets\\VOC2007\\JPEGImages_Rb_Sort\\RbRGB_pitaya_000002.jpg\n",
      "NewValue: D:/VOC2007/JPEGImages/OriRGB_pitaya_000002.jpg\n",
      "OldValue: RbRGB_pitaya_000003.jpg\n",
      "NewValue: OriRGB_pitaya_000003.xml\n",
      "OldValue: F:\\HLG_Multi_Detection\\HLG_Multi_Datasets\\VOC2007\\JPEGImages_Rb_Sort\\RbRGB_pitaya_000003.jpg\n",
      "NewValue: D:/VOC2007/JPEGImages/OriRGB_pitaya_000003.jpg\n",
      "OldValue: RbRGB_pitaya_000004.jpg\n",
      "NewValue: OriRGB_pitaya_000004.xml\n",
      "OldValue: F:\\HLG_Multi_Detection\\HLG_Multi_Datasets\\VOC2007\\JPEGImages_Rb_Sort\\RbRGB_pitaya_000004.jpg\n",
      "NewValue: D:/VOC2007/JPEGImages/OriRGB_pitaya_000004.jpg\n",
      "OldValue: RbRGB_pitaya_000005.jpg\n",
      "NewValue: OriRGB_pitaya_000005.xml\n",
      "OldValue: F:\\HLG_Multi_Detection\\HLG_Multi_Datasets\\VOC2007\\JPEGImages_Rb_Sort\\RbRGB_pitaya_000005.jpg\n",
      "NewValue: D:/VOC2007/JPEGImages/OriRGB_pitaya_000005.jpg\n"
     ]
    }
   ],
   "source": [
    "###=== Annotations_Ori_Sort ===###\n",
    "#读取待修改XML文件内部 \"filename\" = 与文件名相同\n",
    "# 读取路径下的文件  \n",
    "rootpath = './Annotations_Ori_Sort/'    \n",
    "list_xml_filename = os.listdir(os.path.join(rootpath))   \n",
    "#print(list_xml_filename) \n",
    "\n",
    "for file in list_xml_filename:   #遍历所有文件\n",
    "    xml_path = os.path.join(rootpath,file)\n",
    "\n",
    "    updateTree = ET.parse(xml_path) # parse xml documents into element tree\n",
    "    root = updateTree.getroot()     # return root element\n",
    "    # 修改sub1的name属性\n",
    "    sub1 = root.find(\"filename\")    # 获得当前属性值\n",
    "    print ('OldValue:', sub1.text)\n",
    "    \n",
    "    if sub1.text != file: \n",
    "        sub1.text = file                # 对属性赋值   \n",
    "        updateTree.write(xml_path)      # 跟新树目录   \n",
    "        print ('NewValue:', sub1.text) \n",
    "    else:\n",
    "        print ('keep no change:', sub1.text)\n",
    "\n",
    "    # 修改sub2的name属性\n",
    "    sub2 = root.find(\"path\")    # 获得当前属性值\n",
    "    print ('OldValue:', sub2.text)\n",
    "\n",
    "    front_path =  'D:/VOC2007/JPEGImages/'\n",
    "    type_file = '.jpg'\n",
    "    filename = os.path.splitext(file)[0]\n",
    "    name_file_new = front_path + filename + type_file\n",
    "\n",
    "    if sub2.text!= name_file_new: \n",
    "        sub2.text = name_file_new                # 对属性赋值   \n",
    "        updateTree.write(xml_path)      # 跟新树目录   \n",
    "        print ('NewValue:', sub2.text) \n",
    "    else:\n",
    "        print ('keep no change:', sub2.text)"
   ]
  }
 ],
 "metadata": {
  "interpreter": {
   "hash": "b3ba2566441a7c06988d0923437866b63cedc61552a5af99d1f4fb67d367b25f"
  },
  "kernelspec": {
   "display_name": "Python 3.8.8 64-bit ('base': conda)",
   "language": "python",
   "name": "python3"
  },
  "language_info": {
   "codemirror_mode": {
    "name": "ipython",
    "version": 3
   },
   "file_extension": ".py",
   "mimetype": "text/x-python",
   "name": "python",
   "nbconvert_exporter": "python",
   "pygments_lexer": "ipython3",
   "version": "3.8.8"
  },
  "orig_nbformat": 4
 },
 "nbformat": 4,
 "nbformat_minor": 2
}
