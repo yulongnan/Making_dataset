{
 "cells": [
  {
   "cell_type": "code",
   "execution_count": 2,
   "metadata": {},
   "outputs": [],
   "source": [
    "import xml.etree.ElementTree as ET\n",
    "from os import getcwd\n",
    "import os "
   ]
  },
  {
   "cell_type": "code",
   "execution_count": 22,
   "metadata": {},
   "outputs": [
    {
     "name": "stdout",
     "output_type": "stream",
     "text": [
      "x_max is less than or equal to x_min for bbox (0, 591, 0, 719).\n",
      "in_file cls_OF\\Annotations_Ori_HLGMulti_OF\\OriRGB_pitaya_R45_000456.xml\n",
      "x_max is less than or equal to x_min for bbox (0, 465, 0, 615).\n",
      "in_file cls_OF\\Annotations_Ori_HLGMulti_OF\\OriRGB_pitaya_R75_000496.xml\n",
      "x_max is less than or equal to x_min for bbox (368, 560, 368, 561).\n",
      "in_file cls_OF\\Annotations_Ori_HLGMulti_OF\\OriRGB_pitaya_SCR45_001120.xml\n",
      "x_max is less than or equal to x_min for bbox (368, 560, 368, 561).\n",
      "in_file cls_OF\\Annotations_Ori_HLGMulti_OF\\OriRGB_pitaya_SCR45_001120.xml\n",
      "y_max is less than or equal to y_min for bbox (367, 562, 368, 562).\n",
      "in_file cls_OF\\Annotations_Ori_HLGMulti_OF\\OriRGB_pitaya_SCR45_001120.xml\n",
      "x_max is less than or equal to x_min for bbox (369, 560, 369, 561).\n",
      "in_file cls_OF\\Annotations_Ori_HLGMulti_OF\\OriRGB_pitaya_SCR45_001120.xml\n",
      "['cls_OF\\\\Annotations_Ori_HLGMulti_OF\\\\OriRGB_pitaya_R45_000456.xml', 'cls_OF\\\\Annotations_Ori_HLGMulti_OF\\\\OriRGB_pitaya_R75_000496.xml', 'cls_OF\\\\Annotations_Ori_HLGMulti_OF\\\\OriRGB_pitaya_SCR45_001120.xml', 'cls_OF\\\\Annotations_Ori_HLGMulti_OF\\\\OriRGB_pitaya_SCR45_001120.xml', 'cls_OF\\\\Annotations_Ori_HLGMulti_OF\\\\OriRGB_pitaya_SCR45_001120.xml', 'cls_OF\\\\Annotations_Ori_HLGMulti_OF\\\\OriRGB_pitaya_SCR45_001120.xml']\n"
     ]
    }
   ],
   "source": [
    "AUG = 0\n",
    "if AUG :\n",
    "    all_xml_files = os.listdir('IMG_AUG\\Annotations_AUG')\n",
    "    root_path_xml = 'IMG_AUG\\Annotations_AUG\\\\'\n",
    "else:\n",
    "    all_xml_files = os.listdir('cls_OF\\Annotations_Ori_HLGMulti_OF')\n",
    "    root_path_xml = 'cls_OF\\Annotations_Ori_HLGMulti_OF\\\\'\n",
    "\n",
    "def find_Unqualified_bbox_xmlfile(all_xml_files, root_path_xml):\n",
    "    file_Unqualified = []\n",
    "    for i_filexml in all_xml_files:\n",
    "        in_file = root_path_xml + i_filexml\n",
    "        tree=ET.parse(in_file)\n",
    "        root = tree.getroot()\n",
    "\n",
    "        for obj in root.iter('object'):\n",
    "            difficult = 0 \n",
    "            if obj.find('difficult')!=None:\n",
    "                difficult = obj.find('difficult').text\n",
    "            cls = obj.find('name').text\n",
    "            xmlbox = obj.find('bndbox')\n",
    "            bbox = (int(float(xmlbox.find('xmin').text)), int(float(xmlbox.find('ymin').text)), int(float(xmlbox.find('xmax').text)), int(float(xmlbox.find('ymax').text)))\n",
    "            x_min, y_min, x_max, y_max = bbox[:4]\n",
    "            if x_max <= x_min:\n",
    "                print(\"x_max is less than or equal to x_min for bbox {bbox}.\".format(bbox=bbox))\n",
    "                print('in_file', in_file)\n",
    "                file_Unqualified.append(in_file)\n",
    "            if y_max <= y_min:\n",
    "                print(\"y_max is less than or equal to y_min for bbox {bbox}.\".format(bbox=bbox))\n",
    "                print('in_file', in_file)\n",
    "                file_Unqualified.append(in_file)\n",
    "    print(file_Unqualified)\n",
    "    return file_Unqualified\n",
    "Unqualified_xml_files = find_Unqualified_bbox_xmlfile(all_xml_files, root_path_xml)\n",
    "\n"
   ]
  },
  {
   "cell_type": "code",
   "execution_count": 26,
   "metadata": {},
   "outputs": [
    {
     "name": "stdout",
     "output_type": "stream",
     "text": [
      "i_xmlfile =  cls_OF\\Annotations_Ori_HLGMulti_OF\\OriRGB_pitaya_R45_000456.xml\n",
      "文件不存在\n",
      "i_xmlfile =  cls_OF\\Annotations_Ori_HLGMulti_OF\\OriRGB_pitaya_R75_000496.xml\n",
      "文件不存在\n",
      "i_xmlfile =  cls_OF\\Annotations_Ori_HLGMulti_OF\\OriRGB_pitaya_SCR45_001120.xml\n",
      "文件不存在\n",
      "i_xmlfile =  cls_OF\\Annotations_Ori_HLGMulti_OF\\OriRGB_pitaya_SCR45_001120.xml\n",
      "文件不存在\n",
      "i_xmlfile =  cls_OF\\Annotations_Ori_HLGMulti_OF\\OriRGB_pitaya_SCR45_001120.xml\n",
      "文件不存在\n",
      "i_xmlfile =  cls_OF\\Annotations_Ori_HLGMulti_OF\\OriRGB_pitaya_SCR45_001120.xml\n",
      "文件不存在\n"
     ]
    }
   ],
   "source": [
    "# 删除文件\n",
    "if AUG:\n",
    "    AUG_image_path = 'IMG_AUG\\JPEGImages_AUG\\\\'\n",
    "else: \n",
    "    AUG_image_path = 'cls_OF\\JPEGImages_Ori_HLGMulti_OF\\\\'\n",
    "\n",
    "for i_xmlfile in Unqualified_xml_files:\n",
    "    print('i_xmlfile = ', i_xmlfile)\n",
    "    if os.path.exists(i_xmlfile):\n",
    "        os.remove(i_xmlfile)\n",
    "        i_imgfile = AUG_image_path + os.path.basename(i_xmlfile).split('.')[0]+'.jpg'\n",
    "        os.remove(i_imgfile)\n",
    "    else:\n",
    "        print(\"文件不存在\")"
   ]
  }
 ],
 "metadata": {
  "interpreter": {
   "hash": "ad2bdc8ecc057115af97d19610ffacc2b4e99fae6737bb82f5d7fb13d2f2c186"
  },
  "kernelspec": {
   "display_name": "Python 3.8.8 ('base')",
   "language": "python",
   "name": "python3"
  },
  "language_info": {
   "codemirror_mode": {
    "name": "ipython",
    "version": 3
   },
   "file_extension": ".py",
   "mimetype": "text/x-python",
   "name": "python",
   "nbconvert_exporter": "python",
   "pygments_lexer": "ipython3",
   "version": "3.8.8"
  },
  "orig_nbformat": 4
 },
 "nbformat": 4,
 "nbformat_minor": 2
}
