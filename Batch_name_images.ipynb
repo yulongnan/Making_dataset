{
 "metadata": {
  "language_info": {
   "codemirror_mode": {
    "name": "ipython",
    "version": 3
   },
   "file_extension": ".py",
   "mimetype": "text/x-python",
   "name": "python",
   "nbconvert_exporter": "python",
   "pygments_lexer": "ipython3",
   "version": "3.7.10"
  },
  "orig_nbformat": 2,
  "kernelspec": {
   "name": "python3710jvsc74a57bd0b3ba2566441a7c06988d0923437866b63cedc61552a5af99d1f4fb67d367b25f",
   "display_name": "Python 3.7.10 64-bit ('base': conda)"
  }
 },
 "nbformat": 4,
 "nbformat_minor": 2,
 "cells": [
  {
   "cell_type": "code",
   "execution_count": 2,
   "metadata": {},
   "outputs": [],
   "source": [
    "import os\n",
    "path = \".\\image\"\n",
    "filelist = os.listdir(path) #该文件夹下所有的文件（包括文件夹）\n",
    "count=0\n",
    "for file in filelist:\n",
    "    print(file)\n",
    "for file in filelist:   #遍历所有文件\n",
    "    Olddir=os.path.join(path,file)   #原来的文件路径\n",
    "    if os.path.isdir(Olddir):   #如果是文件夹则跳过\n",
    "        continue\n",
    "    filename=os.path.splitext(file)[0]   #文件名\n",
    "    filetype=os.path.splitext(file)[1]   #文件扩展名\n",
    "    Newdir=os.path.join(path,str(count).zfill(6)+filetype)  #用字符串函数zfill 以0补全所需位数\n",
    "    os.rename(Olddir,Newdir)#重命名\n",
    "    count+=1"
   ]
  },
  {
   "cell_type": "code",
   "execution_count": null,
   "metadata": {},
   "outputs": [],
   "source": []
  }
 ]
}