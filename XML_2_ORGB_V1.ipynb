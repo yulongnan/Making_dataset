{
 "cells": [
  {
   "cell_type": "markdown",
   "source": [
    "## XML文件 = 内部属性值的修改 "
   ],
   "metadata": {}
  },
  {
   "cell_type": "code",
   "execution_count": 1,
   "source": [
    "#coding=utf-8\r\n",
    "import xml.etree.ElementTree as ET\r\n",
    "import glob\r\n",
    "import os"
   ],
   "outputs": [],
   "metadata": {}
  },
  {
   "cell_type": "code",
   "execution_count": 30,
   "source": [
    "rootpath = './VOC2007/Annotations/'\r\n",
    "print(rootpath)\r\n",
    "list_xml_filename = os.listdir(os.path.join(rootpath))\r\n",
    "print(list_xml_filename)"
   ],
   "outputs": [
    {
     "output_type": "stream",
     "name": "stdout",
     "text": [
      "./VOC2007/Annotations/\n",
      "['kcolor_HLG_000001.xml', 'kcolor_HLG_000002.xml', 'kcolor_HLG_000003.xml', 'kcolor_HLG_000004.xml', 'kcolor_HLG_000005.xml', 'kcolor_HLG_000006.xml', 'kcolor_HLG_000007.xml', 'kcolor_HLG_000008.xml', 'kcolor_HLG_000009.xml', 'kcolor_HLG_000010.xml', 'kcolor_HLG_000011.xml', 'kcolor_HLG_000012.xml', 'kcolor_HLG_000013.xml', 'kcolor_HLG_000014.xml', 'kcolor_HLG_000015.xml']\n"
     ]
    }
   ],
   "metadata": {}
  },
  {
   "cell_type": "code",
   "execution_count": 53,
   "source": [
    "list_xml_filename[0]\r\n",
    "xml_path = os.path.join(rootpath,list_xml_filename[1])\r\n",
    "print(xml_path)"
   ],
   "outputs": [
    {
     "output_type": "stream",
     "name": "stdout",
     "text": [
      "./VOC2007/Annotations/kcolor_HLG_000002.xml\n"
     ]
    }
   ],
   "metadata": {}
  },
  {
   "cell_type": "code",
   "execution_count": 66,
   "source": [
    "#读取待修改文件 \"path\"\r\n",
    "updateTree = ET.parse(xml_path) # parse xml documents into element tree\r\n",
    "root = updateTree.getroot()     # return root element\r\n",
    "#修改sub1的name属性\r\n",
    "sub1 = root.find(\"filename\")    # 获得当前属性值\r\n",
    "print ('CurrentValue:', sub1.text)\r\n",
    "\r\n",
    "if sub1.text[0] == 'k' :\r\n",
    "    sub1.text = sub1.text[1:]       # 对属性赋值  \r\n",
    "    print (sub1.text)\r\n",
    "    updateTree.write(xml_path)      # 跟新树目录 \r\n",
    "else :\r\n",
    "    print('NO change value')"
   ],
   "outputs": [
    {
     "output_type": "stream",
     "name": "stdout",
     "text": [
      "CurrentValue: color_HLG_000002.jpg\n",
      "NO change value\n"
     ]
    }
   ],
   "metadata": {}
  }
 ],
 "metadata": {
  "orig_nbformat": 4,
  "language_info": {
   "name": "python",
   "version": "3.7.10",
   "mimetype": "text/x-python",
   "codemirror_mode": {
    "name": "ipython",
    "version": 3
   },
   "pygments_lexer": "ipython3",
   "nbconvert_exporter": "python",
   "file_extension": ".py"
  },
  "kernelspec": {
   "name": "python3",
   "display_name": "Python 3.7.10 64-bit ('Anaconda3': conda)"
  },
  "interpreter": {
   "hash": "19d5effd8ee1311358e509780eb3ba0aa603f088884d2fee5afc3922f78377a9"
  }
 },
 "nbformat": 4,
 "nbformat_minor": 2
}